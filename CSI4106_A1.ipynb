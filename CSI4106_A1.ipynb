{
  "cells": [
    {
      "cell_type": "markdown",
      "metadata": {
        "id": "view-in-github",
        "colab_type": "text"
      },
      "source": [
        "<a href=\"https://colab.research.google.com/github/JunpengWen/Assignment1/blob/master/CSI4106_A1.ipynb\" target=\"_parent\"><img src=\"https://colab.research.google.com/assets/colab-badge.svg\" alt=\"Open In Colab\"/></a>"
      ]
    },
    {
      "cell_type": "markdown",
      "source": [
        "**ASSIGNMENT 1 - EMPIRICAL STUDY OF KNAPSACK PROBLEM**"
      ],
      "metadata": {
        "id": "SPeulvp-meob"
      }
    },
    {
      "cell_type": "markdown",
      "source": [
        "**1. Group Description**\n",
        "\n",
        "Group Number: 53 \\\\\n",
        "Member1 Names: Junpeng Wen \\\\\n",
        "Member1 Student Numbers: 300249282 \\\\\n",
        "Member2 Names: Yongquan Long \\\\\n",
        "Member2 Student Numbers: 300249549 \\\\"
      ],
      "metadata": {
        "id": "f2Eeke4Z_EkW"
      }
    },
    {
      "cell_type": "markdown",
      "source": [
        "**2. Knapsack Problem**\n",
        "\n",
        "In the Knapsack Problem, a backpack with a limited weight capacity must be filled with items of given weights and values. It is important to maximize the total value without exceeding the weight limit. There are two types of knapsacks: the classic 0/1 Knapsack (entire items) as well as the fractional Knapsack (partial items).\n",
        "\n",
        "Solving the Knapsack Problem often involves dynamic programming, greedy algorithms, or branch-and-bound techniques, depending on the specific constraints and goals of the problem. It's a classic problem used in algorithm design and optimization and has applications in various fields, including resource allocation, financial portfolio optimization, and more."
      ],
      "metadata": {
        "id": "Yq6OGiMX_da0"
      }
    },
    {
      "cell_type": "markdown",
      "source": [
        "**3. Dataset**\n",
        "\n",
        "A dataset downloaded from Kaggle (https://www.kaggle.com/datasets/warcoder/knapsack-problem?select=knapsack_5_items.csv) presents multiple instances of the Knapsack problem with five items each. There are weights, values, capacities, and optimal selections for each instance. This dataset can be a valuable resource for studying and experimenting with different algorithms and approaches to solving the Problems."
      ],
      "metadata": {
        "id": "C8vwHE0G_iOG"
      }
    },
    {
      "cell_type": "markdown",
      "source": [
        "**Import important libraries**"
      ],
      "metadata": {
        "id": "OZTWy1qN2BzY"
      }
    },
    {
      "cell_type": "code",
      "execution_count": null,
      "metadata": {
        "id": "GmP1buROhaOx"
      },
      "outputs": [],
      "source": [
        "import pandas as pd\n",
        "import itertools\n",
        "import numpy as np"
      ]
    },
    {
      "cell_type": "markdown",
      "source": [
        "**Read Dataset**\n",
        "\n",
        "As outlined in the project description, it should be possible for the correctors to execute your notebook without requiring any downloads.\n",
        "\n",
        "To facilitate access to the dataset without the need for downloads, you can upload it to a public GitHub repository and provide a link to the raw version of the dataset.\n",
        "GitHub repository：\n",
        "\n",
        "https://github.com/JunpengWen/Assignment1\n",
        "\n",
        "The link to the raw version is as follows:\n",
        "\n",
        "https://raw.githubusercontent.com/JunpengWen/Assignment1/master/knapsack_5_items.csv\n",
        "\n",
        "For example:\n",
        "\n",
        "https://raw.githubusercontent.com/baharin/KnapsackProblem/main/knapsack_5_items.csv\n",
        "\n",
        "Now provide the link to YOUR dataset and read the dataset using pandas:"
      ],
      "metadata": {
        "id": "wNJyoeCz00Kr"
      }
    },
    {
      "cell_type": "code",
      "execution_count": null,
      "metadata": {
        "id": "BrhpM-HwhaOy"
      },
      "outputs": [],
      "source": [
        "url = \"https://raw.githubusercontent.com/JunpengWen/Assignment1/master/knapsack_5_items.csv\" #provide the link to the raw version of dataset. You *need* to provide a link to *your own* github repository. DO NOT use the link that is provided as an example.\n",
        "\n",
        "dataset = pd.read_csv(url)"
      ]
    },
    {
      "cell_type": "markdown",
      "source": [
        "Let's see what are the columns of the dataset? :"
      ],
      "metadata": {
        "id": "4Drc71BY2a7w"
      }
    },
    {
      "cell_type": "code",
      "source": [],
      "metadata": {
        "id": "fZaMgpK3-yzB"
      },
      "execution_count": null,
      "outputs": []
    },
    {
      "cell_type": "code",
      "execution_count": null,
      "metadata": {
        "colab": {
          "base_uri": "https://localhost:8080/"
        },
        "id": "pGxZXmhNhaOz",
        "outputId": "9fd92885-3085-47a9-a928-dc0902538bfb"
      },
      "outputs": [
        {
          "output_type": "execute_result",
          "data": {
            "text/plain": [
              "Index(['Weights', 'Prices', 'Capacity', 'Best picks', 'Best price'], dtype='object')"
            ]
          },
          "metadata": {},
          "execution_count": 3
        }
      ],
      "source": [
        "dataset.columns"
      ]
    },
    {
      "cell_type": "markdown",
      "source": [
        "As we expected, we have columns for weights, costs, capacity, best picks and best price for all the instances."
      ],
      "metadata": {
        "id": "aNZaqcCT2w-T"
      }
    },
    {
      "cell_type": "markdown",
      "source": [
        "Now let's see the first 10 entries (rows):"
      ],
      "metadata": {
        "id": "jkokOHRj2kgZ"
      }
    },
    {
      "cell_type": "code",
      "execution_count": null,
      "metadata": {
        "colab": {
          "base_uri": "https://localhost:8080/",
          "height": 363
        },
        "id": "0xqfPrBEhaOz",
        "outputId": "7109bbbf-b3aa-460e-f6e7-a8b546d17071"
      },
      "outputs": [
        {
          "output_type": "execute_result",
          "data": {
            "text/plain": [
              "            Weights            Prices  Capacity        Best picks  Best price\n",
              "0  [46 40 42 38 10]  [12 19 19 15  8]        40  [0. 1. 0. 0. 0.]        19.0\n",
              "1  [11 31  4  6  7]  [ 2  8 18 16  3]        64  [1. 1. 1. 1. 1.]        47.0\n",
              "2  [32 49 27 37 24]  [19 16 16  4  1]        87  [1. 0. 1. 0. 1.]        36.0\n",
              "3  [20 35 22 23 16]  [19 17 19  9  1]        21  [1. 0. 0. 0. 0.]        19.0\n",
              "4  [ 7 12 19 13 20]  [10 11 18 15  5]        50  [0. 1. 1. 1. 0.]        44.0\n",
              "5  [27 10 25 25  7]  [13 19  7 16  3]        66  [1. 1. 0. 1. 0.]        48.0\n",
              "6  [21  2 33 45 26]  [ 1 14 10  6 13]        80  [0. 1. 1. 0. 1.]        37.0\n",
              "7  [37 27 39 14 25]  [18  7 15  4 13]        35  [0. 0. 0. 0. 1.]        13.0\n",
              "8  [ 1 48  4 23 39]  [ 9  4 10 16 12]        51  [1. 0. 1. 1. 0.]        35.0\n",
              "9  [ 4  3 22  9 32]  [14  6  3 17  8]        53  [1. 1. 0. 1. 1.]        45.0"
            ],
            "text/html": [
              "\n",
              "  <div id=\"df-07cae15d-6b46-4d3b-8ddc-feb5052f392d\" class=\"colab-df-container\">\n",
              "    <div>\n",
              "<style scoped>\n",
              "    .dataframe tbody tr th:only-of-type {\n",
              "        vertical-align: middle;\n",
              "    }\n",
              "\n",
              "    .dataframe tbody tr th {\n",
              "        vertical-align: top;\n",
              "    }\n",
              "\n",
              "    .dataframe thead th {\n",
              "        text-align: right;\n",
              "    }\n",
              "</style>\n",
              "<table border=\"1\" class=\"dataframe\">\n",
              "  <thead>\n",
              "    <tr style=\"text-align: right;\">\n",
              "      <th></th>\n",
              "      <th>Weights</th>\n",
              "      <th>Prices</th>\n",
              "      <th>Capacity</th>\n",
              "      <th>Best picks</th>\n",
              "      <th>Best price</th>\n",
              "    </tr>\n",
              "  </thead>\n",
              "  <tbody>\n",
              "    <tr>\n",
              "      <th>0</th>\n",
              "      <td>[46 40 42 38 10]</td>\n",
              "      <td>[12 19 19 15  8]</td>\n",
              "      <td>40</td>\n",
              "      <td>[0. 1. 0. 0. 0.]</td>\n",
              "      <td>19.0</td>\n",
              "    </tr>\n",
              "    <tr>\n",
              "      <th>1</th>\n",
              "      <td>[11 31  4  6  7]</td>\n",
              "      <td>[ 2  8 18 16  3]</td>\n",
              "      <td>64</td>\n",
              "      <td>[1. 1. 1. 1. 1.]</td>\n",
              "      <td>47.0</td>\n",
              "    </tr>\n",
              "    <tr>\n",
              "      <th>2</th>\n",
              "      <td>[32 49 27 37 24]</td>\n",
              "      <td>[19 16 16  4  1]</td>\n",
              "      <td>87</td>\n",
              "      <td>[1. 0. 1. 0. 1.]</td>\n",
              "      <td>36.0</td>\n",
              "    </tr>\n",
              "    <tr>\n",
              "      <th>3</th>\n",
              "      <td>[20 35 22 23 16]</td>\n",
              "      <td>[19 17 19  9  1]</td>\n",
              "      <td>21</td>\n",
              "      <td>[1. 0. 0. 0. 0.]</td>\n",
              "      <td>19.0</td>\n",
              "    </tr>\n",
              "    <tr>\n",
              "      <th>4</th>\n",
              "      <td>[ 7 12 19 13 20]</td>\n",
              "      <td>[10 11 18 15  5]</td>\n",
              "      <td>50</td>\n",
              "      <td>[0. 1. 1. 1. 0.]</td>\n",
              "      <td>44.0</td>\n",
              "    </tr>\n",
              "    <tr>\n",
              "      <th>5</th>\n",
              "      <td>[27 10 25 25  7]</td>\n",
              "      <td>[13 19  7 16  3]</td>\n",
              "      <td>66</td>\n",
              "      <td>[1. 1. 0. 1. 0.]</td>\n",
              "      <td>48.0</td>\n",
              "    </tr>\n",
              "    <tr>\n",
              "      <th>6</th>\n",
              "      <td>[21  2 33 45 26]</td>\n",
              "      <td>[ 1 14 10  6 13]</td>\n",
              "      <td>80</td>\n",
              "      <td>[0. 1. 1. 0. 1.]</td>\n",
              "      <td>37.0</td>\n",
              "    </tr>\n",
              "    <tr>\n",
              "      <th>7</th>\n",
              "      <td>[37 27 39 14 25]</td>\n",
              "      <td>[18  7 15  4 13]</td>\n",
              "      <td>35</td>\n",
              "      <td>[0. 0. 0. 0. 1.]</td>\n",
              "      <td>13.0</td>\n",
              "    </tr>\n",
              "    <tr>\n",
              "      <th>8</th>\n",
              "      <td>[ 1 48  4 23 39]</td>\n",
              "      <td>[ 9  4 10 16 12]</td>\n",
              "      <td>51</td>\n",
              "      <td>[1. 0. 1. 1. 0.]</td>\n",
              "      <td>35.0</td>\n",
              "    </tr>\n",
              "    <tr>\n",
              "      <th>9</th>\n",
              "      <td>[ 4  3 22  9 32]</td>\n",
              "      <td>[14  6  3 17  8]</td>\n",
              "      <td>53</td>\n",
              "      <td>[1. 1. 0. 1. 1.]</td>\n",
              "      <td>45.0</td>\n",
              "    </tr>\n",
              "  </tbody>\n",
              "</table>\n",
              "</div>\n",
              "    <div class=\"colab-df-buttons\">\n",
              "\n",
              "  <div class=\"colab-df-container\">\n",
              "    <button class=\"colab-df-convert\" onclick=\"convertToInteractive('df-07cae15d-6b46-4d3b-8ddc-feb5052f392d')\"\n",
              "            title=\"Convert this dataframe to an interactive table.\"\n",
              "            style=\"display:none;\">\n",
              "\n",
              "  <svg xmlns=\"http://www.w3.org/2000/svg\" height=\"24px\" viewBox=\"0 -960 960 960\">\n",
              "    <path d=\"M120-120v-720h720v720H120Zm60-500h600v-160H180v160Zm220 220h160v-160H400v160Zm0 220h160v-160H400v160ZM180-400h160v-160H180v160Zm440 0h160v-160H620v160ZM180-180h160v-160H180v160Zm440 0h160v-160H620v160Z\"/>\n",
              "  </svg>\n",
              "    </button>\n",
              "\n",
              "  <style>\n",
              "    .colab-df-container {\n",
              "      display:flex;\n",
              "      gap: 12px;\n",
              "    }\n",
              "\n",
              "    .colab-df-convert {\n",
              "      background-color: #E8F0FE;\n",
              "      border: none;\n",
              "      border-radius: 50%;\n",
              "      cursor: pointer;\n",
              "      display: none;\n",
              "      fill: #1967D2;\n",
              "      height: 32px;\n",
              "      padding: 0 0 0 0;\n",
              "      width: 32px;\n",
              "    }\n",
              "\n",
              "    .colab-df-convert:hover {\n",
              "      background-color: #E2EBFA;\n",
              "      box-shadow: 0px 1px 2px rgba(60, 64, 67, 0.3), 0px 1px 3px 1px rgba(60, 64, 67, 0.15);\n",
              "      fill: #174EA6;\n",
              "    }\n",
              "\n",
              "    .colab-df-buttons div {\n",
              "      margin-bottom: 4px;\n",
              "    }\n",
              "\n",
              "    [theme=dark] .colab-df-convert {\n",
              "      background-color: #3B4455;\n",
              "      fill: #D2E3FC;\n",
              "    }\n",
              "\n",
              "    [theme=dark] .colab-df-convert:hover {\n",
              "      background-color: #434B5C;\n",
              "      box-shadow: 0px 1px 3px 1px rgba(0, 0, 0, 0.15);\n",
              "      filter: drop-shadow(0px 1px 2px rgba(0, 0, 0, 0.3));\n",
              "      fill: #FFFFFF;\n",
              "    }\n",
              "  </style>\n",
              "\n",
              "    <script>\n",
              "      const buttonEl =\n",
              "        document.querySelector('#df-07cae15d-6b46-4d3b-8ddc-feb5052f392d button.colab-df-convert');\n",
              "      buttonEl.style.display =\n",
              "        google.colab.kernel.accessAllowed ? 'block' : 'none';\n",
              "\n",
              "      async function convertToInteractive(key) {\n",
              "        const element = document.querySelector('#df-07cae15d-6b46-4d3b-8ddc-feb5052f392d');\n",
              "        const dataTable =\n",
              "          await google.colab.kernel.invokeFunction('convertToInteractive',\n",
              "                                                    [key], {});\n",
              "        if (!dataTable) return;\n",
              "\n",
              "        const docLinkHtml = 'Like what you see? Visit the ' +\n",
              "          '<a target=\"_blank\" href=https://colab.research.google.com/notebooks/data_table.ipynb>data table notebook</a>'\n",
              "          + ' to learn more about interactive tables.';\n",
              "        element.innerHTML = '';\n",
              "        dataTable['output_type'] = 'display_data';\n",
              "        await google.colab.output.renderOutput(dataTable, element);\n",
              "        const docLink = document.createElement('div');\n",
              "        docLink.innerHTML = docLinkHtml;\n",
              "        element.appendChild(docLink);\n",
              "      }\n",
              "    </script>\n",
              "  </div>\n",
              "\n",
              "\n",
              "<div id=\"df-8527cd62-1e38-44f6-b1d0-fcf46965987f\">\n",
              "  <button class=\"colab-df-quickchart\" onclick=\"quickchart('df-8527cd62-1e38-44f6-b1d0-fcf46965987f')\"\n",
              "            title=\"Suggest charts.\"\n",
              "            style=\"display:none;\">\n",
              "\n",
              "<svg xmlns=\"http://www.w3.org/2000/svg\" height=\"24px\"viewBox=\"0 0 24 24\"\n",
              "     width=\"24px\">\n",
              "    <g>\n",
              "        <path d=\"M19 3H5c-1.1 0-2 .9-2 2v14c0 1.1.9 2 2 2h14c1.1 0 2-.9 2-2V5c0-1.1-.9-2-2-2zM9 17H7v-7h2v7zm4 0h-2V7h2v10zm4 0h-2v-4h2v4z\"/>\n",
              "    </g>\n",
              "</svg>\n",
              "  </button>\n",
              "\n",
              "<style>\n",
              "  .colab-df-quickchart {\n",
              "      --bg-color: #E8F0FE;\n",
              "      --fill-color: #1967D2;\n",
              "      --hover-bg-color: #E2EBFA;\n",
              "      --hover-fill-color: #174EA6;\n",
              "      --disabled-fill-color: #AAA;\n",
              "      --disabled-bg-color: #DDD;\n",
              "  }\n",
              "\n",
              "  [theme=dark] .colab-df-quickchart {\n",
              "      --bg-color: #3B4455;\n",
              "      --fill-color: #D2E3FC;\n",
              "      --hover-bg-color: #434B5C;\n",
              "      --hover-fill-color: #FFFFFF;\n",
              "      --disabled-bg-color: #3B4455;\n",
              "      --disabled-fill-color: #666;\n",
              "  }\n",
              "\n",
              "  .colab-df-quickchart {\n",
              "    background-color: var(--bg-color);\n",
              "    border: none;\n",
              "    border-radius: 50%;\n",
              "    cursor: pointer;\n",
              "    display: none;\n",
              "    fill: var(--fill-color);\n",
              "    height: 32px;\n",
              "    padding: 0;\n",
              "    width: 32px;\n",
              "  }\n",
              "\n",
              "  .colab-df-quickchart:hover {\n",
              "    background-color: var(--hover-bg-color);\n",
              "    box-shadow: 0 1px 2px rgba(60, 64, 67, 0.3), 0 1px 3px 1px rgba(60, 64, 67, 0.15);\n",
              "    fill: var(--button-hover-fill-color);\n",
              "  }\n",
              "\n",
              "  .colab-df-quickchart-complete:disabled,\n",
              "  .colab-df-quickchart-complete:disabled:hover {\n",
              "    background-color: var(--disabled-bg-color);\n",
              "    fill: var(--disabled-fill-color);\n",
              "    box-shadow: none;\n",
              "  }\n",
              "\n",
              "  .colab-df-spinner {\n",
              "    border: 2px solid var(--fill-color);\n",
              "    border-color: transparent;\n",
              "    border-bottom-color: var(--fill-color);\n",
              "    animation:\n",
              "      spin 1s steps(1) infinite;\n",
              "  }\n",
              "\n",
              "  @keyframes spin {\n",
              "    0% {\n",
              "      border-color: transparent;\n",
              "      border-bottom-color: var(--fill-color);\n",
              "      border-left-color: var(--fill-color);\n",
              "    }\n",
              "    20% {\n",
              "      border-color: transparent;\n",
              "      border-left-color: var(--fill-color);\n",
              "      border-top-color: var(--fill-color);\n",
              "    }\n",
              "    30% {\n",
              "      border-color: transparent;\n",
              "      border-left-color: var(--fill-color);\n",
              "      border-top-color: var(--fill-color);\n",
              "      border-right-color: var(--fill-color);\n",
              "    }\n",
              "    40% {\n",
              "      border-color: transparent;\n",
              "      border-right-color: var(--fill-color);\n",
              "      border-top-color: var(--fill-color);\n",
              "    }\n",
              "    60% {\n",
              "      border-color: transparent;\n",
              "      border-right-color: var(--fill-color);\n",
              "    }\n",
              "    80% {\n",
              "      border-color: transparent;\n",
              "      border-right-color: var(--fill-color);\n",
              "      border-bottom-color: var(--fill-color);\n",
              "    }\n",
              "    90% {\n",
              "      border-color: transparent;\n",
              "      border-bottom-color: var(--fill-color);\n",
              "    }\n",
              "  }\n",
              "</style>\n",
              "\n",
              "  <script>\n",
              "    async function quickchart(key) {\n",
              "      const quickchartButtonEl =\n",
              "        document.querySelector('#' + key + ' button');\n",
              "      quickchartButtonEl.disabled = true;  // To prevent multiple clicks.\n",
              "      quickchartButtonEl.classList.add('colab-df-spinner');\n",
              "      try {\n",
              "        const charts = await google.colab.kernel.invokeFunction(\n",
              "            'suggestCharts', [key], {});\n",
              "      } catch (error) {\n",
              "        console.error('Error during call to suggestCharts:', error);\n",
              "      }\n",
              "      quickchartButtonEl.classList.remove('colab-df-spinner');\n",
              "      quickchartButtonEl.classList.add('colab-df-quickchart-complete');\n",
              "    }\n",
              "    (() => {\n",
              "      let quickchartButtonEl =\n",
              "        document.querySelector('#df-8527cd62-1e38-44f6-b1d0-fcf46965987f button');\n",
              "      quickchartButtonEl.style.display =\n",
              "        google.colab.kernel.accessAllowed ? 'block' : 'none';\n",
              "    })();\n",
              "  </script>\n",
              "</div>\n",
              "    </div>\n",
              "  </div>\n"
            ]
          },
          "metadata": {},
          "execution_count": 4
        }
      ],
      "source": [
        "dataset.head(10)"
      ]
    },
    {
      "cell_type": "markdown",
      "source": [
        "**Preprocessing Step**\n",
        "\n",
        "Typically, the initial step in any project that involves reading and handling data is data preprocessing and cleansing.\n",
        "\n",
        "In our dataset, we expect the entries in the \"Weights,\" \"Prices,\" and \"Best Picks\" columns to be in the form of arrays of floats or integers, like this: [45, 40, 42, 38, 10]\n",
        "\n",
        "However, when you read each entry using pandas, they will be in a form of a string: \"[45 40 42 38 10]\"\n",
        "\n",
        "So we need to convert these strings into \"arrays of floats or integers.\" You can utilize the function provided below for this purpose:\n"
      ],
      "metadata": {
        "id": "1dq9VpZh2r2A"
      }
    },
    {
      "cell_type": "code",
      "execution_count": null,
      "metadata": {
        "id": "BmUtgrBchaOz"
      },
      "outputs": [],
      "source": [
        "def string_to_list(string):\n",
        "\n",
        "  string_list = string.strip('[]').split()\n",
        "\n",
        "  float_list = [float(element) for element in string_list]\n",
        "\n",
        "  return float_list"
      ]
    },
    {
      "cell_type": "markdown",
      "source": [
        "Furthermore, it's possible that certain rows in the dataset contain empty values in specific columns. We also aim to eliminate these rows as they do not provide any useful information. We use dropna() function to do so:"
      ],
      "metadata": {
        "id": "CP1nkMb27A4n"
      }
    },
    {
      "cell_type": "code",
      "execution_count": null,
      "metadata": {
        "id": "LT_iYgxhhaO0"
      },
      "outputs": [],
      "source": [
        "#Ignore the warning messages.\n",
        "\n",
        "dataset = dataset.dropna()\n",
        "\n",
        "dataset.Weights = dataset.Weights.apply(lambda x : string_to_list(x))\n",
        "dataset.Prices = dataset.Prices.apply(lambda x : string_to_list(x))\n",
        "dataset['Best picks'] = dataset['Best picks'].apply(lambda x : string_to_list(x))"
      ]
    },
    {
      "cell_type": "markdown",
      "source": [
        "Now it's time to implement the search algorithms. For each algorithm, a template is provided to you. You can modify this template if you want. But first you should try to go look at all the parameters used, as they are all important. You can also define any number of auxiliary functions you want.\n"
      ],
      "metadata": {
        "id": "61go4NeA7gZU"
      }
    },
    {
      "cell_type": "markdown",
      "source": [
        "**4. Generate and Test**\n",
        "\n",
        "Give a description... Also, make sure that you put comments using your own words in the code to show that you understand the code that you are submitting."
      ],
      "metadata": {
        "id": "0ER3-7di7ufy"
      }
    },
    {
      "cell_type": "code",
      "execution_count": null,
      "metadata": {
        "id": "FqN5dVe7haO0"
      },
      "outputs": [],
      "source": [
        "import itertools\n",
        "def gen_and_test(data):\n",
        "  # get the weights, prices, and capacity from the data\n",
        "  weights = data['Weights']\n",
        "  prices = data['Prices']\n",
        "  capacity = data['Capacity']\n",
        "\n",
        "  # Initialize variables to track the best solution\n",
        "  best_solution_price = 0\n",
        "  best_solution = []\n",
        "\n",
        "  # Iterate from 0 to weights length\n",
        "  for r in range(len(weights) + 1):\n",
        "      # Based on the weights of the items, this nested loop generates all combinations of size r.\n",
        "      for subset in itertools.combinations(enumerate(weights), r):\n",
        "          # Skip the empty subsets\n",
        "          if not subset:\n",
        "              continue\n",
        "\n",
        "          # subset consists of indices and weights in a tuple\n",
        "          indices, total_weights = zip(*subset)\n",
        "          # Calculate the total price of the items in combination\n",
        "          total_price = sum(prices[i] for i in indices)\n",
        "\n",
        "          #The best solution should be updated if the total weight is within the capacity and the total price is higher.\n",
        "          if sum(total_weights) <= capacity and total_price > best_solution_price:\n",
        "              best_solution_price = total_price\n",
        "              best_solution = indices\n",
        "\n",
        "  # return the result\n",
        "  return best_solution_price, best_solution\n",
        "\n",
        "\n"
      ]
    },
    {
      "cell_type": "code",
      "execution_count": null,
      "metadata": {
        "id": "xQyI_WRShaO0"
      },
      "outputs": [],
      "source": [
        "solutions = []\n",
        "for _, row in dataset.iterrows():\n",
        "    target = row['Best price']\n",
        "    solution, indexes = gen_and_test(row)\n",
        "    solutions.append(1 if target == solution else 0)\n"
      ]
    },
    {
      "cell_type": "code",
      "execution_count": null,
      "metadata": {
        "id": "yodeAYV3haO0",
        "colab": {
          "base_uri": "https://localhost:8080/"
        },
        "outputId": "208b49b6-dccd-4629-bba2-a6f3b8e5764d"
      },
      "outputs": [
        {
          "output_type": "stream",
          "name": "stdout",
          "text": [
            "Accuracy of best prices found is 1.0\n"
          ]
        }
      ],
      "source": [
        "# Accuracy\n",
        "print('Accuracy of best prices found is', np.mean(solutions))"
      ]
    },
    {
      "cell_type": "markdown",
      "source": [
        "**Your Analysis:**"
      ],
      "metadata": {
        "id": "sgYGIJMd-atd"
      }
    },
    {
      "cell_type": "markdown",
      "source": [
        "------------------------------------------------------------------------------------------------"
      ],
      "metadata": {
        "id": "5rQYdUQx-dGi"
      }
    },
    {
      "cell_type": "markdown",
      "metadata": {
        "id": "z8_ipXOGhaO1"
      },
      "source": [
        "**5. Greedy Search**\n",
        "\n",
        "Give a description... Also, make sure that you put comments using your own words in the code to show that you understand the code that you are submitting."
      ]
    },
    {
      "cell_type": "code",
      "execution_count": null,
      "metadata": {
        "id": "bAfwGLDkhaO2"
      },
      "outputs": [],
      "source": [
        "def greedy(data):\n",
        "    # Extracting the weights, prices, and capacity from the data\n",
        "    weights = data['Weights']\n",
        "    prices = data['Prices']\n",
        "    capacity = data['Capacity']\n",
        "\n",
        "    # Calculating value-to-weight ratio for each item\n",
        "    ratios = [(i, prices[i]/weights[i]) for i in range(len(weights))]\n",
        "\n",
        "    # Sorting items by value-to-weight ratio in descending order\n",
        "    sorted_ratios = sorted(ratios, key=lambda x: x[1], reverse=True)\n",
        "\n",
        "    # Initializing the best solution variables\n",
        "    best_solution_price = 0\n",
        "    best_solution = []\n",
        "\n",
        "    # Filling the knapsack\n",
        "    for i, ratio in sorted_ratios:\n",
        "        if weights[i] <= capacity:  # If the item can fit in the remaining capacity\n",
        "            best_solution.append(i)  # Add the item index to the solution\n",
        "            best_solution_price += prices[i]  # Add the item's value to the total value\n",
        "            capacity -= weights[i]  # Reduce the remaining capacity\n",
        "\n",
        "    return best_solution_price, best_solution\n"
      ]
    },
    {
      "cell_type": "code",
      "source": [
        "solutions_greedy = []\n",
        "for _, row in dataset.iterrows():\n",
        "    target = row['Best price']\n",
        "    solution, indexes = greedy(row)\n",
        "    solutions_greedy.append(1 if target == solution else 0)\n"
      ],
      "metadata": {
        "id": "QeS54aqAhwhU"
      },
      "execution_count": null,
      "outputs": []
    },
    {
      "cell_type": "code",
      "source": [
        "print(\"Greedy Accuracy is\", np.mean(solutions_greedy))"
      ],
      "metadata": {
        "id": "xWqCDMs-h0SX",
        "colab": {
          "base_uri": "https://localhost:8080/"
        },
        "outputId": "623f6316-cba9-4e9f-af5f-ebfbcca7a5ac"
      },
      "execution_count": null,
      "outputs": [
        {
          "output_type": "stream",
          "name": "stdout",
          "text": [
            "Greedy Accuracy is 0.8341937443061038\n"
          ]
        }
      ]
    },
    {
      "cell_type": "markdown",
      "source": [
        "**Your Analysis:**\n",
        "\n",
        "The Greedy Search algorithm has shown an impressive 83.4% accuracy rate. It shows how greedy approaches work when quick approximate solutions are more valuable than exact ones. Despite greedy methods sometimes getting better results, heuristics can keep them from achieving global optimality.\n",
        "\n"
      ],
      "metadata": {
        "id": "0DKep6e5-nuz"
      }
    },
    {
      "cell_type": "markdown",
      "source": [
        "------------------------------------------------------------------------------------------------"
      ],
      "metadata": {
        "id": "XGBWQqlK-lra"
      }
    },
    {
      "cell_type": "markdown",
      "source": [
        "**6. Simulated Annealing**\n",
        "\n",
        "Give a description... Also, make sure that you put comments using your own words in the code to show that you understand the code that you are submitting.\n"
      ],
      "metadata": {
        "id": "PtDW2ja3R93S"
      }
    },
    {
      "cell_type": "code",
      "source": [
        "import random\n",
        "import math\n",
        "\n",
        "def simulated_annealing(data, N, initial_temperature, cooling_rate, min_temperature=0.001):\n",
        "    weights = data['Weights']\n",
        "    prices = data['Prices']\n",
        "    capacity = data['Capacity']\n",
        "\n",
        "    # Initialization\n",
        "    current_solution = [random.choice([0, 1]) for _ in range(len(weights))]\n",
        "    current_value = sum(item[0] * item[1] for item in zip(current_solution, prices))\n",
        "\n",
        "    best_solution = current_solution[:]\n",
        "    best_value = current_value\n",
        "\n",
        "    current_temperature = initial_temperature\n",
        "    iteration = 0\n",
        "\n",
        "    while current_temperature > min_temperature:\n",
        "        for _ in range(N):  # Iterations at each temperature\n",
        "            iteration += 1\n",
        "\n",
        "            # Generate a neighboring solution\n",
        "            neighbor = current_solution[:]\n",
        "            flip_index = random.randint(0, len(weights) - 1)\n",
        "            neighbor[flip_index] = 1 - neighbor[flip_index]  # Flip the bit\n",
        "\n",
        "            # Check the weight constraint\n",
        "            total_weight = sum(item[0] * item[1] for item in zip(neighbor, weights))\n",
        "            if total_weight > capacity:\n",
        "                continue\n",
        "\n",
        "            # Calculate the value of the neighbor solution\n",
        "            neighbor_value = sum(item[0] * item[1] for item in zip(neighbor, prices))\n",
        "\n",
        "            # Metropolis criterion\n",
        "            delta = neighbor_value - current_value\n",
        "            if delta > 0 or random.uniform(0, 1) < math.exp(delta / current_temperature):\n",
        "                current_solution = neighbor\n",
        "                current_value = neighbor_value\n",
        "\n",
        "                # Update best solution if needed\n",
        "                if current_value > best_value:\n",
        "                    best_solution = current_solution[:]\n",
        "                    best_value = current_value\n",
        "\n",
        "        # Cooling step\n",
        "        current_temperature *= cooling_rate\n",
        "\n",
        "        # Reheating if algorithm stagnates (example criterion: after 100 iterations without improvement)\n",
        "        if iteration % 100 == 0 and current_value < best_value:\n",
        "            current_temperature *= 1.2  # Increase temperature by 20% for reheating\n",
        "\n",
        "    return best_value, best_solution\n",
        "\n"
      ],
      "metadata": {
        "id": "7rFhuXedSF_3"
      },
      "execution_count": null,
      "outputs": []
    },
    {
      "cell_type": "code",
      "source": [
        "solutions_sa = []\n",
        "for _, row in dataset.iterrows():\n",
        "    target = row['Best price']\n",
        "    solution, indexes = simulated_annealing(row, N = 10, initial_temperature=1, cooling_rate=0.95)\n",
        "    solutions_sa.append(1 if target == solution else 0)\n"
      ],
      "metadata": {
        "id": "mAWQLNsESNIZ"
      },
      "execution_count": null,
      "outputs": []
    },
    {
      "cell_type": "code",
      "source": [
        "print(\"Simulated Annealing Accuracy is\", np.mean(solutions_sa))"
      ],
      "metadata": {
        "id": "jUdWEABkhkih",
        "colab": {
          "base_uri": "https://localhost:8080/"
        },
        "outputId": "460e4a6c-d111-4f0c-cba3-9f37a1dd963b"
      },
      "execution_count": null,
      "outputs": [
        {
          "output_type": "stream",
          "name": "stdout",
          "text": [
            "Simulated Annealing Accuracy is 0.28383439619394674\n"
          ]
        }
      ]
    },
    {
      "cell_type": "markdown",
      "source": [
        "**Your Analysis:**"
      ],
      "metadata": {
        "id": "PvvpYOOr-qqr"
      }
    },
    {
      "cell_type": "markdown",
      "source": [
        "\n",
        "The Simulated Annealing has demonstrated an impressive 28.3% accuracy rate, underscoring its effectiveness in solving complex problems. However, it's important to note that the reliance on heuristics can hinder these methods from reaching global optimality, even though they often yield superior results."
      ],
      "metadata": {
        "id": "XsuF1UvWIZs1"
      }
    },
    {
      "cell_type": "markdown",
      "source": [
        "------------------------------------------------------------------------------------------------"
      ],
      "metadata": {
        "id": "n0QXt7Ys-rCc"
      }
    },
    {
      "cell_type": "markdown",
      "source": [
        "**7. Genetic Algorithm**\n",
        "\n",
        "Give a description... Also, make sure that you put comments using your own words in the code to show that you understand the code that you are submitting."
      ],
      "metadata": {
        "id": "RHYjBUvVhtGV"
      }
    },
    {
      "cell_type": "code",
      "source": [
        "import random\n",
        "\n",
        "def calculate_fitness(ind, prices, weights, capacity):\n",
        "  total_weight = sum(item[0] * item[1] for item in zip(ind, weights))\n",
        "  total_price = sum(item[0] * item[1] for item in zip(ind, prices))\n",
        "\n",
        "  # Penalize solutions that exceed the capacity\n",
        "  if total_weight > capacity:\n",
        "      return 0\n",
        "  return total_price\n",
        "\n",
        "def crossover(parent1, parent2, cross_rate):\n",
        "  if random.random() < cross_rate:\n",
        "      point = random.randint(1, len(parent1) - 2)\n",
        "      child1 = parent1[:point] + parent2[point:]\n",
        "      child2 = parent2[:point] + parent1[point:]\n",
        "      return child1, child2\n",
        "  return parent1[:], parent2[:]\n",
        "\n",
        "def mutation(child, mut_rate):\n",
        "  for i in range(len(child)):\n",
        "      if random.random() < mut_rate:\n",
        "          child[i] = 1 - child[i]  # Flip the bit\n",
        "  return child\n",
        "\n",
        "def genetic_algorithm(data, population_size, num_generations, mut_rate, cross_rate, tournament_size):\n",
        "  weights = data['Weights']\n",
        "  prices = data['Prices']\n",
        "  capacity = data['Capacity']\n",
        "\n",
        "  # Generate initial population randomly\n",
        "  population = [[random.choice([0, 1]) for _ in range(len(weights))] for _ in range(population_size)]\n",
        "\n",
        "  for generation in range(num_generations):\n",
        "      population.sort(key=lambda ind: -calculate_fitness(ind, prices, weights, capacity))\n",
        "      new_population = population[:2]  # Keep the best 2 solutions\n",
        "\n",
        "      while len(new_population) < population_size:\n",
        "          # Tournament selection\n",
        "          tournament = random.sample(population, tournament_size)\n",
        "          tournament.sort(key=lambda ind: -calculate_fitness(ind, prices, weights, capacity))\n",
        "          parent1, parent2 = tournament[:2]\n",
        "\n",
        "          child1, child2 = crossover(parent1, parent2, cross_rate)\n",
        "          child1 = mutation(child1, mut_rate)\n",
        "          child2 = mutation(child2, mut_rate)\n",
        "\n",
        "          new_population.extend([child1, child2])\n",
        "\n",
        "      population = new_population\n",
        "\n",
        "  best_solution = max(population, key=lambda ind: calculate_fitness(ind, prices, weights, capacity))\n",
        "  best_solution_price = calculate_fitness(best_solution, prices, weights, capacity)\n",
        "\n",
        "  return best_solution_price, best_solution"
      ],
      "metadata": {
        "id": "5kGKKUN8iP30"
      },
      "execution_count": null,
      "outputs": []
    },
    {
      "cell_type": "code",
      "source": [
        "solutions_ga = []\n",
        "for _, row in dataset.iterrows():\n",
        "    target = row['Best price']\n",
        "    solution, indexes = genetic_algorithm(row, population_size = 50, num_generations = 50, mut_rate = 0.1, cross_rate = 0.7, tournament_size = 5)\n",
        "    solutions_ga.append(1 if target == solution else 0)\n"
      ],
      "metadata": {
        "id": "5b4hBtUijZzg"
      },
      "execution_count": null,
      "outputs": []
    },
    {
      "cell_type": "code",
      "source": [],
      "metadata": {
        "id": "qS6Qwzhxrtcz"
      },
      "execution_count": null,
      "outputs": []
    },
    {
      "cell_type": "code",
      "source": [
        "print(\"Genetic Algorithm Accuracy is\", np.mean(solutions_ga))"
      ],
      "metadata": {
        "id": "hJ3ceIHSs-W-",
        "colab": {
          "base_uri": "https://localhost:8080/"
        },
        "outputId": "edef4eb8-02cc-4d53-99c7-390f1015f856"
      },
      "execution_count": null,
      "outputs": [
        {
          "output_type": "stream",
          "name": "stdout",
          "text": [
            "Genetic Algorithm Accuracy is 0.9998987751796741\n"
          ]
        }
      ]
    },
    {
      "cell_type": "markdown",
      "source": [
        "**Your Analysis:**"
      ],
      "metadata": {
        "id": "5yn8KLah-xGF"
      }
    },
    {
      "cell_type": "markdown",
      "source": [],
      "metadata": {
        "id": "V4Q_4pjLIYcn"
      }
    },
    {
      "cell_type": "markdown",
      "source": [
        "------------------------------------------------------------------------------------------------"
      ],
      "metadata": {
        "id": "ekb0LOgF-xUN"
      }
    },
    {
      "cell_type": "markdown",
      "source": [
        "**8. Comparative Study**\n",
        "\n",
        "description  +  tables/figures"
      ],
      "metadata": {
        "id": "NdO_H-4t-6mg"
      }
    },
    {
      "cell_type": "code",
      "source": [
        "\n",
        "import numpy as np\n",
        "import matplotlib.pyplot as plt\n",
        "\n",
        "\n",
        "# creating the dataset\n",
        "data = {'C':20, 'C++':15, 'Java':30,\n",
        "        'Python':35}\n",
        "courses = list(data.keys())\n",
        "values = list(data.values())\n",
        "\n",
        "fig = plt.figure(figsize = (10, 5))\n",
        "\n",
        "# creating the bar plot\n",
        "plt.bar(courses, values, color ='maroon',\n",
        "        width = 0.4)\n",
        "\n",
        "plt.xlabel(\"Courses offered\")\n",
        "plt.ylabel(\"No. of students enrolled\")\n",
        "plt.title(\"Students enrolled in different courses\")\n",
        "plt.show()"
      ],
      "metadata": {
        "colab": {
          "base_uri": "https://localhost:8080/",
          "height": 487
        },
        "id": "pI8LdkPSFoeO",
        "outputId": "6b93d06c-99bd-4e02-8974-b23c9f633a04"
      },
      "execution_count": null,
      "outputs": [
        {
          "output_type": "display_data",
          "data": {
            "text/plain": [
              "<Figure size 1000x500 with 1 Axes>"
            ],
            "image/png": "[encoded data removed]"
          },
          "metadata": {}
        }
      ]
    },
    {
      "cell_type": "markdown",
      "source": [
        "--------------------------------------------------------------------------\n"
      ],
      "metadata": {
        "id": "4Ypp7TpkAIUe"
      }
    },
    {
      "cell_type": "markdown",
      "source": [
        "**9. Conclusion**\n",
        "\n",
        "Comment on the empirical study, its results, and give ideas for future work.\n",
        "\n",
        "//////  \n",
        "the choice of algorithm depends on the specific characteristics of the Knapsack Problem instance. Greedy Search is fast but may not be suitable for complex instances. Simulated Annealing strikes a balance between exploration and exploitation. Genetic Algorithm offers robustness and adaptability, making it suitable for challenging, multi-dimensional problems. The decision should consider the problem complexity, computational resources, and the need for near-optimal or optimal solutions."
      ],
      "metadata": {
        "id": "8Ikmq-si_23Y"
      }
    },
    {
      "cell_type": "markdown",
      "source": [
        "--------------------------------------------------------------------------\n"
      ],
      "metadata": {
        "id": "41s8gvCNABDy"
      }
    },
    {
      "cell_type": "markdown",
      "source": [
        "**10 References**\n",
        "\n",
        "Make sure you provide references to ALL sources used (articles, code, algorithms).\n",
        "\n",
        "[1] “Genetic algorithms,” GeeksforGeeks, https://www.geeksforgeeks.org/genetic-algorithms/ (accessed Oct. 1, 2023).\n",
        "\n",
        "[2] J. Brownlee, “Simulated annealing from scratch in Python,” MachineLearningMastery.com, https://machinelearningmastery.com/simulated-annealing-from-scratch-in-python/ (accessed Oct. 1, 2023).\n",
        "\n",
        "[3] “Greedy algorithm,” Programiz, https://www.programiz.com/dsa/greedy-algorithm (accessed Oct. 1, 2023).\n",
        "\n",
        "[4] R. K. Ahuja, J. B. Orlin, and A. Tiwari, “A greedy genetic algorithm for the quadratic assignment problem,” Computers &amp;amp; Operations Research, vol. 27, no. 10, pp. 917–934, 2000. doi:10.1016/s0305-0548(99)00067-2"
      ],
      "metadata": {
        "id": "PtbOgI1q_9a0"
      }
    },
    {
      "cell_type": "markdown",
      "source": [
        "**Hint:** To share a link to your colab notebook, click on \"share\" on the top right. Then, under *General access* , change *Restricted* to \"Anyone with the link\"."
      ],
      "metadata": {
        "id": "zF9cuDJqF75q"
      }
    }
  ],
  "metadata": {
    "kernelspec": {
      "display_name": "Python 3",
      "language": "python",
      "name": "python3"
    },
    "language_info": {
      "codemirror_mode": {
        "name": "ipython",
        "version": 3
      },
      "file_extension": ".py",
      "mimetype": "text/x-python",
      "name": "python",
      "nbconvert_exporter": "python",
      "pygments_lexer": "ipython3",
      "version": "3.9.10"
    },
    "orig_nbformat": 4,
    "colab": {
      "provenance": [],
      "include_colab_link": true
    }
  },
  "nbformat": 4,
  "nbformat_minor": 0
}